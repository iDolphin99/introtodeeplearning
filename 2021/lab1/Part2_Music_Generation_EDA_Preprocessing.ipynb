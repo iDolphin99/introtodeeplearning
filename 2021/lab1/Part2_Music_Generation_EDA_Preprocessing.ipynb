{
 "cells": [
  {
   "cell_type": "markdown",
   "metadata": {
    "id": "rsvlBQYCrE4I"
   },
   "source": [
    "## 1. Dependencies\n",
    "\n",
    "cousre 저장소 다운로드, 실습 관련 패키지 import"
   ]
  },
  {
   "cell_type": "code",
   "execution_count": 30,
   "metadata": {
    "id": "riVZCVK65QTH"
   },
   "outputs": [
    {
     "name": "stdout",
     "output_type": "stream",
     "text": [
      "Requirement already satisfied: mitdeeplearning in c:\\users\\hyeongbin\\anaconda3\\lib\\site-packages (0.2.0)\n",
      "Requirement already satisfied: regex in c:\\users\\hyeongbin\\anaconda3\\lib\\site-packages (from mitdeeplearning) (2021.8.3)\n",
      "Requirement already satisfied: tqdm in c:\\users\\hyeongbin\\anaconda3\\lib\\site-packages (from mitdeeplearning) (4.62.3)\n",
      "Requirement already satisfied: gym in c:\\users\\hyeongbin\\anaconda3\\lib\\site-packages (from mitdeeplearning) (0.21.0)\n",
      "Requirement already satisfied: numpy in c:\\users\\hyeongbin\\appdata\\roaming\\python\\python38\\site-packages (from mitdeeplearning) (1.19.5)\n",
      "Requirement already satisfied: cloudpickle>=1.2.0 in c:\\users\\hyeongbin\\anaconda3\\lib\\site-packages (from gym->mitdeeplearning) (2.0.0)\n",
      "Requirement already satisfied: colorama in c:\\users\\hyeongbin\\anaconda3\\lib\\site-packages (from tqdm->mitdeeplearning) (0.4.4)\n"
     ]
    },
    {
     "name": "stderr",
     "output_type": "stream",
     "text": [
      "WARNING: Ignoring invalid distribution -ensorflow-gpu (c:\\users\\hyeongbin\\appdata\\roaming\\python\\python38\\site-packages)\n",
      "WARNING: Ignoring invalid distribution -ensorflow-gpu (c:\\users\\hyeongbin\\appdata\\roaming\\python\\python38\\site-packages)\n",
      "WARNING: Ignoring invalid distribution -ensorflow-gpu (c:\\users\\hyeongbin\\appdata\\roaming\\python\\python38\\site-packages)\n",
      "WARNING: Ignoring invalid distribution -ensorflow-gpu (c:\\users\\hyeongbin\\appdata\\roaming\\python\\python38\\site-packages)\n",
      "WARNING: Ignoring invalid distribution -ensorflow-gpu (c:\\users\\hyeongbin\\appdata\\roaming\\python\\python38\\site-packages)\n",
      "WARNING: Ignoring invalid distribution -ensorflow-gpu (c:\\users\\hyeongbin\\appdata\\roaming\\python\\python38\\site-packages)\n",
      "지정된 경로를 찾을 수 없습니다.\n"
     ]
    }
   ],
   "source": [
    "# Import Tensorflow 2.0\n",
    "# %tensorflow_version 2.x\n",
    "import tensorflow as tf \n",
    "\n",
    "# Download and import the MIT 6.S191 package\n",
    "!pip install mitdeeplearning\n",
    "import mitdeeplearning as mdl\n",
    "\n",
    "# Import all remaining packages\n",
    "import numpy as np\n",
    "import os\n",
    "import time\n",
    "import functools\n",
    "from IPython import display as ipythondisplay\n",
    "from tqdm import tqdm\n",
    "!apt-get install abcmidi timidity > /dev/null 2>&1\n",
    "\n",
    "# Import\n",
    "import random\n",
    "from random import sample\n",
    "import matplotlib.pyplot as plt\n",
    "import pandas as pd \n",
    "\n",
    "# Check that we are using a GPU, if not switch runtimes\n",
    "#   using Runtime > Change Runtime Type > GPU\n",
    "#assert len(tf.config.list_physical_devices('GPU')) > 0"
   ]
  },
  {
   "cell_type": "markdown",
   "metadata": {
    "id": "_ajvp0No4qDm"
   },
   "source": [
    "## 2. Dataset\n",
    "\n",
    "817 songs, 200,679 vectorized songs\n",
    "\n",
    "- ABC notation으로 표현된 수천 개의 아일랜드 민요(Irish folk songs) 데이터 \n",
    "- 단순히 연주되는 음에 대한 정보만이 아니라 추가적으로 노래 제목, 키, 템포와 같은 메타 정보도 포함함 \n",
    "- **텍스트 파일에 존재하는 다양한 문자들이 complexity of the learning problem에 어떤 영향을 미칠까?**\n",
    "- 위 문제는 텍스트 데이터를 수치 데이터로 만들때 중요해짐 : Preprocessing\n",
    "- 음악데이터만 사용하려면 어떻게 해야 할까요? \n",
    "- NLP 적인 처리가 필요하지 않을까? \n",
    "    - X : number\n",
    "    - T : title, 제목\n",
    "    - Z : ?? 음자리표인감 높은음자리표 이런거.. \n",
    "    - M : 뭐지? 첫 시작음? \n",
    "    - L : 박자표인듯\n",
    "    - K : key, 음계, 다장조 이런거 \n",
    "    - z : 악보, 우리가 실제로 훈련해야 할 것, 여기서 | 이거는 마디, !는 뭔지 모르겠음 :| 도돌이표\n",
    "- **songs** : 817개의 노래가 들어있는 list\n",
    "- **show_music_detail(num)** : num 개의 음악을 자세하게 볼 수 있습니다 \n",
    "- **mdl.lab1.play_song(example_song)** : text형 음악을(ABC notation) audio 파형으로 표현합니다 "
   ]
  },
  {
   "cell_type": "code",
   "execution_count": 31,
   "metadata": {},
   "outputs": [
    {
     "name": "stdout",
     "output_type": "stream",
     "text": [
      "Found 817 songs in text\n"
     ]
    }
   ],
   "source": [
    "# Download the dataset\n",
    "# colab으로 실행한다면 주석과 같이 작성할 것 \n",
    "# jupyter notebook으로 실행한다면 아래와 같이 작성할 것 \n",
    "# import pattern과 관련해서 수정해주어야 오류가 해결되는 것 같습니다\n",
    "\n",
    "from mitdeeplearning import lab1\n",
    "#songs = mdl.lab1.load_training_data()\n",
    "songs = lab1.load_training_data()"
   ]
  },
  {
   "cell_type": "code",
   "execution_count": 32,
   "metadata": {},
   "outputs": [
    {
     "name": "stdout",
     "output_type": "stream",
     "text": [
      "\n",
      "Example song # 414 :\n",
      "X:87\n",
      "T:Earl's Chair\n",
      "Z: id:dc-reel-81\n",
      "M:C\n",
      "L:1/8\n",
      "K:D Major\n",
      "A|B2dA BAFA|B2dA BAFB|AFF2 DFF2|BAdA BDFA|!\n",
      "B2dA BAFA|B2dA BAFB|A3B defd|edef d3:|!\n",
      "f|e3f d3f|edef dBA2|e3f d3e|fedB ADFA|!\n",
      "e2df eBB2|gBB2 defg|afbf afde|fedB ADF:|!\n"
     ]
    }
   ],
   "source": [
    "# Print one of the songs to instpect it in greater detail! \n",
    "# my function -> Print N of the song... \n",
    "def show_music_detail(songs, num) :\n",
    "    num_list = sample(range(0, len(songs)), num) #sample output format is list\n",
    "    for i in num_list :\n",
    "        example_song = songs[i]\n",
    "        print(\"\\nExample song #\", i, \":\")\n",
    "        print(example_song)\n",
    "\n",
    "show_music_detail(songs, 1)"
   ]
  },
  {
   "cell_type": "code",
   "execution_count": 33,
   "metadata": {},
   "outputs": [],
   "source": [
    "example_song = songs[random.randint(0, len(songs))]\n",
    "mdl.lab1.play_song(example_song)"
   ]
  },
  {
   "cell_type": "markdown",
   "metadata": {
    "id": "rNnrKn_lL-IJ"
   },
   "source": [
    "## 3. Preprocessing\n",
    "\n",
    "1. Vectorize the text \n",
    "2. Make input sequence chunk from input text (and target sequence)\n",
    "\n",
    "- Prediction task :RNN 모델이 ABC notation 음악에서 패턴을 학습하도록 훈련할 것이며, 학습한 정보를 바탕으로 새로운 음악 생성(또는 예측)\n",
    "- 즉, 모델에게 정말로 요구하는 것은 문자, 문자들의 시퀀스, 다음 문자로 올 가장 가능성 높은 문자는 무엇인가? \n",
    "- input : 문자열 시퀀스 -> model -> output : 각 time step 에서 다음 문자를 예측하는 것 \n",
    "\n",
    "### Vectorize the text\n",
    "\n",
    "- 텍스트(text) 데이터셋 -> 수치(numerical) 데이터셋 => Vectorize \n",
    "    - **vocab**     : ABC notation에 있는 unique vocabulary(or character) \n",
    "    - **char2idx** : 문자 -> 숫자 mapping, 정수  \n",
    "    - **idx2char** : 숫자 -> 문자 mapping \n",
    "    - **vectorized_songs** : ABC notation 노래 text에서 벡터화된 노래 "
   ]
  },
  {
   "cell_type": "code",
   "execution_count": 5,
   "metadata": {},
   "outputs": [],
   "source": [
    "### Vectorize the songs string ###\n",
    "# 문자열 벡터화 함수, return은 무조건 'N(입력 문자열의 문자 개수)'요소의 np.array\n",
    "def vectorize_string(string):\n",
    "    # TODO\n",
    "    string = str(string)\n",
    "    vectorized_list = []\n",
    "    vectorized_list = ([char2idx[_] for _ in string])\n",
    "    return vectorized_list"
   ]
  },
  {
   "cell_type": "code",
   "execution_count": 6,
   "metadata": {
    "id": "IalZLbvOzf-F"
   },
   "outputs": [
    {
     "name": "stdout",
     "output_type": "stream",
     "text": [
      "There are 83 unique characters in the dataset\n",
      "{'\\n': 0, ' ': 1, '!': 2, '\"': 3, '#': 4, \"'\": 5, '(': 6, ')': 7, ',': 8, '-': 9, '.': 10, '/': 11, '0': 12, '1': 13, '2': 14, '3': 15, '4': 16, '5': 17, '6': 18, '7': 19, '8': 20, '9': 21, ':': 22, '<': 23, '=': 24, '>': 25, 'A': 26, 'B': 27, 'C': 28, 'D': 29, 'E': 30, 'F': 31, 'G': 32, 'H': 33, 'I': 34, 'J': 35, 'K': 36, 'L': 37, 'M': 38, 'N': 39, 'O': 40, 'P': 41, 'Q': 42, 'R': 43, 'S': 44, 'T': 45, 'U': 46, 'V': 47, 'W': 48, 'X': 49, 'Y': 50, 'Z': 51, '[': 52, ']': 53, '^': 54, '_': 55, 'a': 56, 'b': 57, 'c': 58, 'd': 59, 'e': 60, 'f': 61, 'g': 62, 'h': 63, 'i': 64, 'j': 65, 'k': 66, 'l': 67, 'm': 68, 'n': 69, 'o': 70, 'p': 71, 'q': 72, 'r': 73, 's': 74, 't': 75, 'u': 76, 'v': 77, 'w': 78, 'x': 79, 'y': 80, 'z': 81, '|': 82}\n"
     ]
    }
   ],
   "source": [
    "# Join our list of song strings into a single string containing all songs\n",
    "# 노래 문자열(string) 목록을 이 모든 노래가 포함된 하나의 단일 문자열로 결합함\n",
    "songs_joined = \"\\n\\n\".join(songs) \n",
    "\n",
    "# Find all unique characters in the joined string\n",
    "# 결합된 노래 묶음 문자열에서 유일한(unique) 단어들을 모두 확인\n",
    "# 데이터셋에는 총 83개의 유일한 문자들이 존재함\n",
    "vocab = sorted(set(songs_joined))\n",
    "print(\"There are\", len(vocab), \"unique characters in the dataset\")\n",
    "\n",
    "\n",
    "### Define numerical representation of text ###  \n",
    "# 문자 -> unique index로 매핑\n",
    "# 예를 들어, \"d\"라는 문자의 인덱스는 char2idx[\"d\"]와 같이 작성하여 얻을 것임 \n",
    "char2idx = {u:i for i, u in enumerate(vocab)}\n",
    "\n",
    "# index -> 문자로 매핑 \n",
    "# char2idx의 반대 버전이며 index에서 다시 문자로 되돌리는 역할을 할 것임\n",
    "idx2char = np.array(vocab)\n",
    "\n",
    "# [python] difference between str() and repr() \n",
    "# 숫자를 문자열로 변환시켜주는 함수임은 동일합니다. 하지만 기저에 작동하는 원리가 다른 것 같습니다. \n",
    "print(char2idx)"
   ]
  },
  {
   "cell_type": "code",
   "execution_count": 7,
   "metadata": {},
   "outputs": [
    {
     "data": {
      "text/html": [
       "<div>\n",
       "<style scoped>\n",
       "    .dataframe tbody tr th:only-of-type {\n",
       "        vertical-align: middle;\n",
       "    }\n",
       "\n",
       "    .dataframe tbody tr th {\n",
       "        vertical-align: top;\n",
       "    }\n",
       "\n",
       "    .dataframe thead th {\n",
       "        text-align: right;\n",
       "    }\n",
       "</style>\n",
       "<table border=\"1\" class=\"dataframe\">\n",
       "  <thead>\n",
       "    <tr style=\"text-align: right;\">\n",
       "      <th></th>\n",
       "      <th>songs</th>\n",
       "    </tr>\n",
       "  </thead>\n",
       "  <tbody>\n",
       "    <tr>\n",
       "      <th>0</th>\n",
       "      <td>X:1\\nT:Alexander's\\nZ: id:dc-hornpipe-1\\nM:C|\\...</td>\n",
       "    </tr>\n",
       "    <tr>\n",
       "      <th>1</th>\n",
       "      <td>X:2\\nT:An Buachaill Dreoite\\nZ: id:dc-hornpipe...</td>\n",
       "    </tr>\n",
       "    <tr>\n",
       "      <th>2</th>\n",
       "      <td>X:3\\nT:Belfast\\nZ: id:dc-hornpipe-3\\nM:C|\\nL:1...</td>\n",
       "    </tr>\n",
       "    <tr>\n",
       "      <th>3</th>\n",
       "      <td>X:4\\nT:Blackbird\\nZ: id:dc-hornpipe-4\\nM:C|\\nL...</td>\n",
       "    </tr>\n",
       "    <tr>\n",
       "      <th>4</th>\n",
       "      <td>X:5\\nT:Bobby Casey's\\nZ: id:dc-hornpipe-5\\nM:C...</td>\n",
       "    </tr>\n",
       "  </tbody>\n",
       "</table>\n",
       "</div>"
      ],
      "text/plain": [
       "                                               songs\n",
       "0  X:1\\nT:Alexander's\\nZ: id:dc-hornpipe-1\\nM:C|\\...\n",
       "1  X:2\\nT:An Buachaill Dreoite\\nZ: id:dc-hornpipe...\n",
       "2  X:3\\nT:Belfast\\nZ: id:dc-hornpipe-3\\nM:C|\\nL:1...\n",
       "3  X:4\\nT:Blackbird\\nZ: id:dc-hornpipe-4\\nM:C|\\nL...\n",
       "4  X:5\\nT:Bobby Casey's\\nZ: id:dc-hornpipe-5\\nM:C..."
      ]
     },
     "execution_count": 7,
     "metadata": {},
     "output_type": "execute_result"
    }
   ],
   "source": [
    "input_data = pd.DataFrame(songs, columns = [\"songs\"])\n",
    "input_data.head()"
   ]
  },
  {
   "cell_type": "code",
   "execution_count": 8,
   "metadata": {},
   "outputs": [
    {
     "data": {
      "text/html": [
       "<div>\n",
       "<style scoped>\n",
       "    .dataframe tbody tr th:only-of-type {\n",
       "        vertical-align: middle;\n",
       "    }\n",
       "\n",
       "    .dataframe tbody tr th {\n",
       "        vertical-align: top;\n",
       "    }\n",
       "\n",
       "    .dataframe thead th {\n",
       "        text-align: right;\n",
       "    }\n",
       "</style>\n",
       "<table border=\"1\" class=\"dataframe\">\n",
       "  <thead>\n",
       "    <tr style=\"text-align: right;\">\n",
       "      <th></th>\n",
       "      <th>songs</th>\n",
       "      <th>X</th>\n",
       "      <th>T</th>\n",
       "      <th>Z</th>\n",
       "      <th>M</th>\n",
       "      <th>L</th>\n",
       "      <th>K</th>\n",
       "      <th>score</th>\n",
       "      <th>vectorized</th>\n",
       "    </tr>\n",
       "  </thead>\n",
       "  <tbody>\n",
       "    <tr>\n",
       "      <th>0</th>\n",
       "      <td>X:1\\nT:Alexander's\\nZ: id:dc-hornpipe-1\\nM:C|\\...</td>\n",
       "      <td>1</td>\n",
       "      <td>Alexander's</td>\n",
       "      <td>id:dc-hornpipe-1</td>\n",
       "      <td>C|</td>\n",
       "      <td>1/8</td>\n",
       "      <td>D Major</td>\n",
       "      <td>(3ABc|dAFA DFAd|fdcd FAdf|gfge fefd|(3efe (3dc...</td>\n",
       "      <td>[6, 15, 26, 27, 58, 82, 59, 26, 31, 26, 1, 29,...</td>\n",
       "    </tr>\n",
       "    <tr>\n",
       "      <th>1</th>\n",
       "      <td>X:2\\nT:An Buachaill Dreoite\\nZ: id:dc-hornpipe...</td>\n",
       "      <td>2</td>\n",
       "      <td>An Buachaill Dreoite</td>\n",
       "      <td>id:dc-hornpipe-2</td>\n",
       "      <td>C|</td>\n",
       "      <td>1/8</td>\n",
       "      <td>G Major</td>\n",
       "      <td>GF|DGGB d2GB|d2GF Gc (3AGF|DGGB d2GB|dBcA F2GF|!</td>\n",
       "      <td>[32, 31, 82, 29, 32, 32, 27, 1, 59, 14, 32, 27...</td>\n",
       "    </tr>\n",
       "    <tr>\n",
       "      <th>2</th>\n",
       "      <td>X:3\\nT:Belfast\\nZ: id:dc-hornpipe-3\\nM:C|\\nL:1...</td>\n",
       "      <td>3</td>\n",
       "      <td>Belfast</td>\n",
       "      <td>id:dc-hornpipe-3</td>\n",
       "      <td>C|</td>\n",
       "      <td>1/8</td>\n",
       "      <td>D Major</td>\n",
       "      <td>ag|(3faf df AdFA|DFAd f2ef|gbec dfAF|GABG E2ag|!</td>\n",
       "      <td>[56, 62, 82, 6, 15, 61, 56, 61, 1, 59, 61, 1, ...</td>\n",
       "    </tr>\n",
       "    <tr>\n",
       "      <th>3</th>\n",
       "      <td>X:4\\nT:Blackbird\\nZ: id:dc-hornpipe-4\\nM:C|\\nL...</td>\n",
       "      <td>4</td>\n",
       "      <td>Blackbird</td>\n",
       "      <td>id:dc-hornpipe-4</td>\n",
       "      <td>C|</td>\n",
       "      <td>1/8</td>\n",
       "      <td>D Mixolydian</td>\n",
       "      <td>AG|F2FA GFD2|de (3fed d^cAF|G2GF GFDE|FdcA G2AG|!</td>\n",
       "      <td>[26, 32, 82, 31, 14, 31, 26, 1, 32, 31, 29, 14...</td>\n",
       "    </tr>\n",
       "    <tr>\n",
       "      <th>4</th>\n",
       "      <td>X:5\\nT:Bobby Casey's\\nZ: id:dc-hornpipe-5\\nM:C...</td>\n",
       "      <td>5</td>\n",
       "      <td>Bobby Casey's</td>\n",
       "      <td>id:dc-hornpipe-5</td>\n",
       "      <td>C|</td>\n",
       "      <td>1/8</td>\n",
       "      <td>A Dorian</td>\n",
       "      <td>ed|cAAB cBcd|eaaf gedB|c2Ac B2Bc|d2de dBGB|!</td>\n",
       "      <td>[60, 59, 82, 58, 26, 26, 27, 1, 58, 27, 58, 59...</td>\n",
       "    </tr>\n",
       "    <tr>\n",
       "      <th>...</th>\n",
       "      <td>...</td>\n",
       "      <td>...</td>\n",
       "      <td>...</td>\n",
       "      <td>...</td>\n",
       "      <td>...</td>\n",
       "      <td>...</td>\n",
       "      <td>...</td>\n",
       "      <td>...</td>\n",
       "      <td>...</td>\n",
       "    </tr>\n",
       "    <tr>\n",
       "      <th>812</th>\n",
       "      <td>X:6\\nT:Inisheer\\nZ: id:dc-waltz-4\\nM:3/4\\nL:1/...</td>\n",
       "      <td>6</td>\n",
       "      <td>Inisheer</td>\n",
       "      <td>id:dc-waltz-4</td>\n",
       "      <td>3/4</td>\n",
       "      <td>1/8</td>\n",
       "      <td>G Major</td>\n",
       "      <td>D2|B3 A Bd|B3 A Bd|E3 B AB|D3 E GA|!</td>\n",
       "      <td>[29, 14, 82, 27, 15, 1, 26, 1, 27, 59, 82, 27,...</td>\n",
       "    </tr>\n",
       "    <tr>\n",
       "      <th>813</th>\n",
       "      <td>X:7\\nT:Mrs. Kenny's\\nZ: id:dc-waltz-7\\nM:3/4\\n...</td>\n",
       "      <td>7</td>\n",
       "      <td>Mrs. Kenny's</td>\n",
       "      <td>id:dc-waltz-7</td>\n",
       "      <td>3/4</td>\n",
       "      <td>1/8</td>\n",
       "      <td>D Major</td>\n",
       "      <td>A2|f2 fe dc|d4 FG|A2 G3B,|A,2 C2 E2|!</td>\n",
       "      <td>[26, 14, 82, 61, 14, 1, 61, 60, 1, 59, 58, 82,...</td>\n",
       "    </tr>\n",
       "    <tr>\n",
       "      <th>814</th>\n",
       "      <td>X:8\\nT:South Wind\\nZ: id:dc-waltz-5\\nM:3/4\\nL:...</td>\n",
       "      <td>8</td>\n",
       "      <td>South Wind</td>\n",
       "      <td>id:dc-waltz-5</td>\n",
       "      <td>3/4</td>\n",
       "      <td>1/8</td>\n",
       "      <td>G Major</td>\n",
       "      <td>c2|B3 A G2|B3 c d2|A6|A4 c2|B3 A G2|E3 D E2|G6...</td>\n",
       "      <td>[58, 14, 82, 27, 15, 1, 26, 1, 32, 14, 82, 27,...</td>\n",
       "    </tr>\n",
       "    <tr>\n",
       "      <th>815</th>\n",
       "      <td>X:9\\nT:Spinning Wheel\\nZ: id:dc-waltz-11\\nM:3/...</td>\n",
       "      <td>9</td>\n",
       "      <td>Spinning Wheel</td>\n",
       "      <td>id:dc-waltz-11</td>\n",
       "      <td>3/4</td>\n",
       "      <td>1/8</td>\n",
       "      <td>G Major</td>\n",
       "      <td>D|G2 B3 D|G2 B2 D2|G2 B2 d2|d2 c2 AG|F2 A2 D2|...</td>\n",
       "      <td>[29, 82, 32, 14, 1, 27, 15, 1, 29, 82, 32, 14,...</td>\n",
       "    </tr>\n",
       "    <tr>\n",
       "      <th>816</th>\n",
       "      <td>X:10\\nT:Tommy Bhetty's\\nZ: id:dc-waltz-6\\nM:3/...</td>\n",
       "      <td>10</td>\n",
       "      <td>Tommy Bhetty's</td>\n",
       "      <td>id:dc-waltz-6</td>\n",
       "      <td>3/4</td>\n",
       "      <td>1/8</td>\n",
       "      <td>G Major</td>\n",
       "      <td>z D2|G3 B dB|G3 B dB|d2 b3 a|ga fg ef|!</td>\n",
       "      <td>[81, 1, 29, 14, 82, 32, 15, 1, 27, 1, 59, 27, ...</td>\n",
       "    </tr>\n",
       "  </tbody>\n",
       "</table>\n",
       "<p>817 rows × 9 columns</p>\n",
       "</div>"
      ],
      "text/plain": [
       "                                                 songs   X  \\\n",
       "0    X:1\\nT:Alexander's\\nZ: id:dc-hornpipe-1\\nM:C|\\...   1   \n",
       "1    X:2\\nT:An Buachaill Dreoite\\nZ: id:dc-hornpipe...   2   \n",
       "2    X:3\\nT:Belfast\\nZ: id:dc-hornpipe-3\\nM:C|\\nL:1...   3   \n",
       "3    X:4\\nT:Blackbird\\nZ: id:dc-hornpipe-4\\nM:C|\\nL...   4   \n",
       "4    X:5\\nT:Bobby Casey's\\nZ: id:dc-hornpipe-5\\nM:C...   5   \n",
       "..                                                 ...  ..   \n",
       "812  X:6\\nT:Inisheer\\nZ: id:dc-waltz-4\\nM:3/4\\nL:1/...   6   \n",
       "813  X:7\\nT:Mrs. Kenny's\\nZ: id:dc-waltz-7\\nM:3/4\\n...   7   \n",
       "814  X:8\\nT:South Wind\\nZ: id:dc-waltz-5\\nM:3/4\\nL:...   8   \n",
       "815  X:9\\nT:Spinning Wheel\\nZ: id:dc-waltz-11\\nM:3/...   9   \n",
       "816  X:10\\nT:Tommy Bhetty's\\nZ: id:dc-waltz-6\\nM:3/...  10   \n",
       "\n",
       "                        T                  Z    M    L             K  \\\n",
       "0             Alexander's   id:dc-hornpipe-1   C|  1/8       D Major   \n",
       "1    An Buachaill Dreoite   id:dc-hornpipe-2   C|  1/8       G Major   \n",
       "2                 Belfast   id:dc-hornpipe-3   C|  1/8       D Major   \n",
       "3               Blackbird   id:dc-hornpipe-4   C|  1/8  D Mixolydian   \n",
       "4           Bobby Casey's   id:dc-hornpipe-5   C|  1/8      A Dorian   \n",
       "..                    ...                ...  ...  ...           ...   \n",
       "812              Inisheer      id:dc-waltz-4  3/4  1/8       G Major   \n",
       "813          Mrs. Kenny's      id:dc-waltz-7  3/4  1/8       D Major   \n",
       "814            South Wind      id:dc-waltz-5  3/4  1/8       G Major   \n",
       "815        Spinning Wheel     id:dc-waltz-11  3/4  1/8       G Major   \n",
       "816        Tommy Bhetty's      id:dc-waltz-6  3/4  1/8       G Major   \n",
       "\n",
       "                                                 score  \\\n",
       "0    (3ABc|dAFA DFAd|fdcd FAdf|gfge fefd|(3efe (3dc...   \n",
       "1     GF|DGGB d2GB|d2GF Gc (3AGF|DGGB d2GB|dBcA F2GF|!   \n",
       "2     ag|(3faf df AdFA|DFAd f2ef|gbec dfAF|GABG E2ag|!   \n",
       "3    AG|F2FA GFD2|de (3fed d^cAF|G2GF GFDE|FdcA G2AG|!   \n",
       "4         ed|cAAB cBcd|eaaf gedB|c2Ac B2Bc|d2de dBGB|!   \n",
       "..                                                 ...   \n",
       "812               D2|B3 A Bd|B3 A Bd|E3 B AB|D3 E GA|!   \n",
       "813              A2|f2 fe dc|d4 FG|A2 G3B,|A,2 C2 E2|!   \n",
       "814  c2|B3 A G2|B3 c d2|A6|A4 c2|B3 A G2|E3 D E2|G6...   \n",
       "815  D|G2 B3 D|G2 B2 D2|G2 B2 d2|d2 c2 AG|F2 A2 D2|...   \n",
       "816            z D2|G3 B dB|G3 B dB|d2 b3 a|ga fg ef|!   \n",
       "\n",
       "                                            vectorized  \n",
       "0    [6, 15, 26, 27, 58, 82, 59, 26, 31, 26, 1, 29,...  \n",
       "1    [32, 31, 82, 29, 32, 32, 27, 1, 59, 14, 32, 27...  \n",
       "2    [56, 62, 82, 6, 15, 61, 56, 61, 1, 59, 61, 1, ...  \n",
       "3    [26, 32, 82, 31, 14, 31, 26, 1, 32, 31, 29, 14...  \n",
       "4    [60, 59, 82, 58, 26, 26, 27, 1, 58, 27, 58, 59...  \n",
       "..                                                 ...  \n",
       "812  [29, 14, 82, 27, 15, 1, 26, 1, 27, 59, 82, 27,...  \n",
       "813  [26, 14, 82, 61, 14, 1, 61, 60, 1, 59, 58, 82,...  \n",
       "814  [58, 14, 82, 27, 15, 1, 26, 1, 32, 14, 82, 27,...  \n",
       "815  [29, 82, 32, 14, 1, 27, 15, 1, 29, 82, 32, 14,...  \n",
       "816  [81, 1, 29, 14, 82, 32, 15, 1, 27, 1, 59, 27, ...  \n",
       "\n",
       "[817 rows x 9 columns]"
      ]
     },
     "execution_count": 8,
     "metadata": {},
     "output_type": "execute_result"
    }
   ],
   "source": [
    "# split \n",
    "input_data[['X', 'temp']] = input_data['songs'].str.split(\"\\nT:\", expand=True)\n",
    "input_data['T'] = input_data['temp'].str.split(\"\\nZ:\").str[0]\n",
    "input_data['temp'] = input_data['temp'].str.split(\"\\nZ:\").str[1]\n",
    "input_data['Z'] = input_data['temp'].str.split(\"\\nM:\").str[0]\n",
    "input_data['temp'] = input_data['temp'].str.split(\"\\nM:\").str[1]\n",
    "input_data['M'] = input_data['temp'].str.split(\"\\nL:\").str[0]\n",
    "input_data['temp'] = input_data['temp'].str.split(\"\\nL:\").str[1]\n",
    "input_data['L'] = input_data['temp'].str.split(\"\\nK:\").str[0]\n",
    "input_data['temp'] = input_data['temp'].str.split(\"\\nK:\").str[1]\n",
    "input_data['K'] = input_data['temp'].str.split(\"\\n\").str[0]\n",
    "input_data['score'] = input_data['temp'].str.split(\"\\n\").str[1]\n",
    "\n",
    "# drop and applying \n",
    "input_data['X'] = input_data['X'].str.split(\"X:\").str[1]\n",
    "input_data = input_data.drop(columns = ['temp'])\n",
    "input_data[\"score\"] = input_data[\"score\"].apply(str)\n",
    "\n",
    "# vectorized string \n",
    "input_data[\"vectorized\"] = \"\"\n",
    "for i in range (0, 817) : \n",
    "    input_data[\"vectorized\"][i] = vectorize_string(input_data[\"score\"][i])\n",
    "\n",
    "    \n",
    "input_data"
   ]
  },
  {
   "cell_type": "code",
   "execution_count": 9,
   "metadata": {},
   "outputs": [
    {
     "data": {
      "text/plain": [
       "C      400\n",
       "6/8    228\n",
       "C|      89\n",
       "2/4     54\n",
       "9/8     22\n",
       "3/4     19\n",
       "4/4      3\n",
       "Name: M, dtype: int64"
      ]
     },
     "execution_count": 9,
     "metadata": {},
     "output_type": "execute_result"
    }
   ],
   "source": [
    "input_data[\"M\"].value_counts()"
   ]
  },
  {
   "cell_type": "code",
   "execution_count": 10,
   "metadata": {},
   "outputs": [
    {
     "name": "stdout",
     "output_type": "stream",
     "text": [
      "['A Dorian' 'A Major' 'A Minor' 'A Mixolydian' 'B Dorian' 'B Minor'\n",
      " 'C Major' 'D Dorian' 'D Major' 'D Minor' 'D Mixolydian' 'E Dorian'\n",
      " 'E Major' 'E Minor' 'F Major' 'F# Minor' 'G Dorian' 'G Major'\n",
      " 'G Mixolydian' None]\n"
     ]
    },
    {
     "data": {
      "text/html": [
       "<div>\n",
       "<style scoped>\n",
       "    .dataframe tbody tr th:only-of-type {\n",
       "        vertical-align: middle;\n",
       "    }\n",
       "\n",
       "    .dataframe tbody tr th {\n",
       "        vertical-align: top;\n",
       "    }\n",
       "\n",
       "    .dataframe thead th {\n",
       "        text-align: right;\n",
       "    }\n",
       "</style>\n",
       "<table border=\"1\" class=\"dataframe\">\n",
       "  <thead>\n",
       "    <tr style=\"text-align: right;\">\n",
       "      <th></th>\n",
       "      <th>songs</th>\n",
       "      <th>X</th>\n",
       "      <th>T</th>\n",
       "      <th>Z</th>\n",
       "      <th>M</th>\n",
       "      <th>L</th>\n",
       "      <th>K</th>\n",
       "      <th>score</th>\n",
       "      <th>vectorized</th>\n",
       "    </tr>\n",
       "  </thead>\n",
       "  <tbody>\n",
       "    <tr>\n",
       "      <th>0</th>\n",
       "      <td>X:1\\nT:Alexander's\\nZ: id:dc-hornpipe-1\\nM:C|\\...</td>\n",
       "      <td>1</td>\n",
       "      <td>Alexander's</td>\n",
       "      <td>id:dc-hornpipe-1</td>\n",
       "      <td>C|</td>\n",
       "      <td>1/8</td>\n",
       "      <td>8</td>\n",
       "      <td>(3ABc|dAFA DFAd|fdcd FAdf|gfge fefd|(3efe (3dc...</td>\n",
       "      <td>[6, 15, 26, 27, 58, 82, 59, 26, 31, 26, 1, 29,...</td>\n",
       "    </tr>\n",
       "    <tr>\n",
       "      <th>1</th>\n",
       "      <td>X:2\\nT:An Buachaill Dreoite\\nZ: id:dc-hornpipe...</td>\n",
       "      <td>2</td>\n",
       "      <td>An Buachaill Dreoite</td>\n",
       "      <td>id:dc-hornpipe-2</td>\n",
       "      <td>C|</td>\n",
       "      <td>1/8</td>\n",
       "      <td>17</td>\n",
       "      <td>GF|DGGB d2GB|d2GF Gc (3AGF|DGGB d2GB|dBcA F2GF|!</td>\n",
       "      <td>[32, 31, 82, 29, 32, 32, 27, 1, 59, 14, 32, 27...</td>\n",
       "    </tr>\n",
       "    <tr>\n",
       "      <th>2</th>\n",
       "      <td>X:3\\nT:Belfast\\nZ: id:dc-hornpipe-3\\nM:C|\\nL:1...</td>\n",
       "      <td>3</td>\n",
       "      <td>Belfast</td>\n",
       "      <td>id:dc-hornpipe-3</td>\n",
       "      <td>C|</td>\n",
       "      <td>1/8</td>\n",
       "      <td>8</td>\n",
       "      <td>ag|(3faf df AdFA|DFAd f2ef|gbec dfAF|GABG E2ag|!</td>\n",
       "      <td>[56, 62, 82, 6, 15, 61, 56, 61, 1, 59, 61, 1, ...</td>\n",
       "    </tr>\n",
       "    <tr>\n",
       "      <th>3</th>\n",
       "      <td>X:4\\nT:Blackbird\\nZ: id:dc-hornpipe-4\\nM:C|\\nL...</td>\n",
       "      <td>4</td>\n",
       "      <td>Blackbird</td>\n",
       "      <td>id:dc-hornpipe-4</td>\n",
       "      <td>C|</td>\n",
       "      <td>1/8</td>\n",
       "      <td>10</td>\n",
       "      <td>AG|F2FA GFD2|de (3fed d^cAF|G2GF GFDE|FdcA G2AG|!</td>\n",
       "      <td>[26, 32, 82, 31, 14, 31, 26, 1, 32, 31, 29, 14...</td>\n",
       "    </tr>\n",
       "    <tr>\n",
       "      <th>4</th>\n",
       "      <td>X:5\\nT:Bobby Casey's\\nZ: id:dc-hornpipe-5\\nM:C...</td>\n",
       "      <td>5</td>\n",
       "      <td>Bobby Casey's</td>\n",
       "      <td>id:dc-hornpipe-5</td>\n",
       "      <td>C|</td>\n",
       "      <td>1/8</td>\n",
       "      <td>0</td>\n",
       "      <td>ed|cAAB cBcd|eaaf gedB|c2Ac B2Bc|d2de dBGB|!</td>\n",
       "      <td>[60, 59, 82, 58, 26, 26, 27, 1, 58, 27, 58, 59...</td>\n",
       "    </tr>\n",
       "    <tr>\n",
       "      <th>...</th>\n",
       "      <td>...</td>\n",
       "      <td>...</td>\n",
       "      <td>...</td>\n",
       "      <td>...</td>\n",
       "      <td>...</td>\n",
       "      <td>...</td>\n",
       "      <td>...</td>\n",
       "      <td>...</td>\n",
       "      <td>...</td>\n",
       "    </tr>\n",
       "    <tr>\n",
       "      <th>812</th>\n",
       "      <td>X:6\\nT:Inisheer\\nZ: id:dc-waltz-4\\nM:3/4\\nL:1/...</td>\n",
       "      <td>6</td>\n",
       "      <td>Inisheer</td>\n",
       "      <td>id:dc-waltz-4</td>\n",
       "      <td>3/4</td>\n",
       "      <td>1/8</td>\n",
       "      <td>17</td>\n",
       "      <td>D2|B3 A Bd|B3 A Bd|E3 B AB|D3 E GA|!</td>\n",
       "      <td>[29, 14, 82, 27, 15, 1, 26, 1, 27, 59, 82, 27,...</td>\n",
       "    </tr>\n",
       "    <tr>\n",
       "      <th>813</th>\n",
       "      <td>X:7\\nT:Mrs. Kenny's\\nZ: id:dc-waltz-7\\nM:3/4\\n...</td>\n",
       "      <td>7</td>\n",
       "      <td>Mrs. Kenny's</td>\n",
       "      <td>id:dc-waltz-7</td>\n",
       "      <td>3/4</td>\n",
       "      <td>1/8</td>\n",
       "      <td>8</td>\n",
       "      <td>A2|f2 fe dc|d4 FG|A2 G3B,|A,2 C2 E2|!</td>\n",
       "      <td>[26, 14, 82, 61, 14, 1, 61, 60, 1, 59, 58, 82,...</td>\n",
       "    </tr>\n",
       "    <tr>\n",
       "      <th>814</th>\n",
       "      <td>X:8\\nT:South Wind\\nZ: id:dc-waltz-5\\nM:3/4\\nL:...</td>\n",
       "      <td>8</td>\n",
       "      <td>South Wind</td>\n",
       "      <td>id:dc-waltz-5</td>\n",
       "      <td>3/4</td>\n",
       "      <td>1/8</td>\n",
       "      <td>17</td>\n",
       "      <td>c2|B3 A G2|B3 c d2|A6|A4 c2|B3 A G2|E3 D E2|G6...</td>\n",
       "      <td>[58, 14, 82, 27, 15, 1, 26, 1, 32, 14, 82, 27,...</td>\n",
       "    </tr>\n",
       "    <tr>\n",
       "      <th>815</th>\n",
       "      <td>X:9\\nT:Spinning Wheel\\nZ: id:dc-waltz-11\\nM:3/...</td>\n",
       "      <td>9</td>\n",
       "      <td>Spinning Wheel</td>\n",
       "      <td>id:dc-waltz-11</td>\n",
       "      <td>3/4</td>\n",
       "      <td>1/8</td>\n",
       "      <td>17</td>\n",
       "      <td>D|G2 B3 D|G2 B2 D2|G2 B2 d2|d2 c2 AG|F2 A2 D2|...</td>\n",
       "      <td>[29, 82, 32, 14, 1, 27, 15, 1, 29, 82, 32, 14,...</td>\n",
       "    </tr>\n",
       "    <tr>\n",
       "      <th>816</th>\n",
       "      <td>X:10\\nT:Tommy Bhetty's\\nZ: id:dc-waltz-6\\nM:3/...</td>\n",
       "      <td>10</td>\n",
       "      <td>Tommy Bhetty's</td>\n",
       "      <td>id:dc-waltz-6</td>\n",
       "      <td>3/4</td>\n",
       "      <td>1/8</td>\n",
       "      <td>17</td>\n",
       "      <td>z D2|G3 B dB|G3 B dB|d2 b3 a|ga fg ef|!</td>\n",
       "      <td>[81, 1, 29, 14, 82, 32, 15, 1, 27, 1, 59, 27, ...</td>\n",
       "    </tr>\n",
       "  </tbody>\n",
       "</table>\n",
       "<p>817 rows × 9 columns</p>\n",
       "</div>"
      ],
      "text/plain": [
       "                                                 songs   X  \\\n",
       "0    X:1\\nT:Alexander's\\nZ: id:dc-hornpipe-1\\nM:C|\\...   1   \n",
       "1    X:2\\nT:An Buachaill Dreoite\\nZ: id:dc-hornpipe...   2   \n",
       "2    X:3\\nT:Belfast\\nZ: id:dc-hornpipe-3\\nM:C|\\nL:1...   3   \n",
       "3    X:4\\nT:Blackbird\\nZ: id:dc-hornpipe-4\\nM:C|\\nL...   4   \n",
       "4    X:5\\nT:Bobby Casey's\\nZ: id:dc-hornpipe-5\\nM:C...   5   \n",
       "..                                                 ...  ..   \n",
       "812  X:6\\nT:Inisheer\\nZ: id:dc-waltz-4\\nM:3/4\\nL:1/...   6   \n",
       "813  X:7\\nT:Mrs. Kenny's\\nZ: id:dc-waltz-7\\nM:3/4\\n...   7   \n",
       "814  X:8\\nT:South Wind\\nZ: id:dc-waltz-5\\nM:3/4\\nL:...   8   \n",
       "815  X:9\\nT:Spinning Wheel\\nZ: id:dc-waltz-11\\nM:3/...   9   \n",
       "816  X:10\\nT:Tommy Bhetty's\\nZ: id:dc-waltz-6\\nM:3/...  10   \n",
       "\n",
       "                        T                  Z    M    L   K  \\\n",
       "0             Alexander's   id:dc-hornpipe-1   C|  1/8   8   \n",
       "1    An Buachaill Dreoite   id:dc-hornpipe-2   C|  1/8  17   \n",
       "2                 Belfast   id:dc-hornpipe-3   C|  1/8   8   \n",
       "3               Blackbird   id:dc-hornpipe-4   C|  1/8  10   \n",
       "4           Bobby Casey's   id:dc-hornpipe-5   C|  1/8   0   \n",
       "..                    ...                ...  ...  ...  ..   \n",
       "812              Inisheer      id:dc-waltz-4  3/4  1/8  17   \n",
       "813          Mrs. Kenny's      id:dc-waltz-7  3/4  1/8   8   \n",
       "814            South Wind      id:dc-waltz-5  3/4  1/8  17   \n",
       "815        Spinning Wheel     id:dc-waltz-11  3/4  1/8  17   \n",
       "816        Tommy Bhetty's      id:dc-waltz-6  3/4  1/8  17   \n",
       "\n",
       "                                                 score  \\\n",
       "0    (3ABc|dAFA DFAd|fdcd FAdf|gfge fefd|(3efe (3dc...   \n",
       "1     GF|DGGB d2GB|d2GF Gc (3AGF|DGGB d2GB|dBcA F2GF|!   \n",
       "2     ag|(3faf df AdFA|DFAd f2ef|gbec dfAF|GABG E2ag|!   \n",
       "3    AG|F2FA GFD2|de (3fed d^cAF|G2GF GFDE|FdcA G2AG|!   \n",
       "4         ed|cAAB cBcd|eaaf gedB|c2Ac B2Bc|d2de dBGB|!   \n",
       "..                                                 ...   \n",
       "812               D2|B3 A Bd|B3 A Bd|E3 B AB|D3 E GA|!   \n",
       "813              A2|f2 fe dc|d4 FG|A2 G3B,|A,2 C2 E2|!   \n",
       "814  c2|B3 A G2|B3 c d2|A6|A4 c2|B3 A G2|E3 D E2|G6...   \n",
       "815  D|G2 B3 D|G2 B2 D2|G2 B2 d2|d2 c2 AG|F2 A2 D2|...   \n",
       "816            z D2|G3 B dB|G3 B dB|d2 b3 a|ga fg ef|!   \n",
       "\n",
       "                                            vectorized  \n",
       "0    [6, 15, 26, 27, 58, 82, 59, 26, 31, 26, 1, 29,...  \n",
       "1    [32, 31, 82, 29, 32, 32, 27, 1, 59, 14, 32, 27...  \n",
       "2    [56, 62, 82, 6, 15, 61, 56, 61, 1, 59, 61, 1, ...  \n",
       "3    [26, 32, 82, 31, 14, 31, 26, 1, 32, 31, 29, 14...  \n",
       "4    [60, 59, 82, 58, 26, 26, 27, 1, 58, 27, 58, 59...  \n",
       "..                                                 ...  \n",
       "812  [29, 14, 82, 27, 15, 1, 26, 1, 27, 59, 82, 27,...  \n",
       "813  [26, 14, 82, 61, 14, 1, 61, 60, 1, 59, 58, 82,...  \n",
       "814  [58, 14, 82, 27, 15, 1, 26, 1, 32, 14, 82, 27,...  \n",
       "815  [29, 82, 32, 14, 1, 27, 15, 1, 29, 82, 32, 14,...  \n",
       "816  [81, 1, 29, 14, 82, 32, 15, 1, 27, 1, 59, 27, ...  \n",
       "\n",
       "[817 rows x 9 columns]"
      ]
     },
     "execution_count": 10,
     "metadata": {},
     "output_type": "execute_result"
    }
   ],
   "source": [
    "# LabelEncoder\n",
    "from sklearn.preprocessing import LabelEncoder\n",
    "\n",
    "le = LabelEncoder()\n",
    "input_data['K'] = le.fit_transform(list(input_data['K']))   # fit transform으로 한번에 처리 가능\n",
    "print(le.classes_)\n",
    "\n",
    "input_data"
   ]
  },
  {
   "cell_type": "code",
   "execution_count": 11,
   "metadata": {},
   "outputs": [],
   "source": [
    "major_list = [1, 6, 8, 12, 14, 17]\n",
    "minor_list = [2, 5, 9 ,13, 15]\n",
    "\n",
    "for j in major_list : \n",
    "    major_index = input_data[input_data['K']==j].index \n",
    "    input_major = input_data.loc[major_index, :]\n",
    "    "
   ]
  },
  {
   "cell_type": "code",
   "execution_count": 12,
   "metadata": {},
   "outputs": [
    {
     "name": "stdout",
     "output_type": "stream",
     "text": [
      "<class 'pandas.core.frame.DataFrame'>\n",
      "RangeIndex: 817 entries, 0 to 816\n",
      "Data columns (total 9 columns):\n",
      " #   Column      Non-Null Count  Dtype \n",
      "---  ------      --------------  ----- \n",
      " 0   songs       817 non-null    object\n",
      " 1   X           815 non-null    object\n",
      " 2   T           815 non-null    object\n",
      " 3   Z           815 non-null    object\n",
      " 4   M           815 non-null    object\n",
      " 5   L           815 non-null    object\n",
      " 6   K           817 non-null    int32 \n",
      " 7   score       817 non-null    object\n",
      " 8   vectorized  817 non-null    object\n",
      "dtypes: int32(1), object(8)\n",
      "memory usage: 54.4+ KB\n"
     ]
    }
   ],
   "source": [
    "input_data.info()"
   ]
  },
  {
   "cell_type": "code",
   "execution_count": 13,
   "metadata": {},
   "outputs": [
    {
     "data": {
      "text/html": [
       "<div>\n",
       "<style scoped>\n",
       "    .dataframe tbody tr th:only-of-type {\n",
       "        vertical-align: middle;\n",
       "    }\n",
       "\n",
       "    .dataframe tbody tr th {\n",
       "        vertical-align: top;\n",
       "    }\n",
       "\n",
       "    .dataframe thead th {\n",
       "        text-align: right;\n",
       "    }\n",
       "</style>\n",
       "<table border=\"1\" class=\"dataframe\">\n",
       "  <thead>\n",
       "    <tr style=\"text-align: right;\">\n",
       "      <th></th>\n",
       "      <th>songs</th>\n",
       "      <th>X</th>\n",
       "      <th>T</th>\n",
       "      <th>Z</th>\n",
       "      <th>M</th>\n",
       "      <th>L</th>\n",
       "      <th>K</th>\n",
       "      <th>score</th>\n",
       "      <th>vectorized</th>\n",
       "    </tr>\n",
       "  </thead>\n",
       "  <tbody>\n",
       "    <tr>\n",
       "      <th>23</th>\n",
       "      <td>A,C|D2 (3DDD DFAA|defe dcBA|FAA2 BAAF|GEFD CEA...</td>\n",
       "      <td>NaN</td>\n",
       "      <td>None</td>\n",
       "      <td>None</td>\n",
       "      <td>None</td>\n",
       "      <td>None</td>\n",
       "      <td>19</td>\n",
       "      <td>None</td>\n",
       "      <td>[39, 70, 69, 60]</td>\n",
       "    </tr>\n",
       "    <tr>\n",
       "      <th>630</th>\n",
       "      <td>E3F D2FA|d2fd gdfd|edBd A2FA|B2AF GFED|!\\nE3F ...</td>\n",
       "      <td>NaN</td>\n",
       "      <td>None</td>\n",
       "      <td>None</td>\n",
       "      <td>None</td>\n",
       "      <td>None</td>\n",
       "      <td>19</td>\n",
       "      <td>None</td>\n",
       "      <td>[39, 70, 69, 60]</td>\n",
       "    </tr>\n",
       "  </tbody>\n",
       "</table>\n",
       "</div>"
      ],
      "text/plain": [
       "                                                 songs    X     T     Z     M  \\\n",
       "23   A,C|D2 (3DDD DFAA|defe dcBA|FAA2 BAAF|GEFD CEA...  NaN  None  None  None   \n",
       "630  E3F D2FA|d2fd gdfd|edBd A2FA|B2AF GFED|!\\nE3F ...  NaN  None  None  None   \n",
       "\n",
       "        L   K score        vectorized  \n",
       "23   None  19  None  [39, 70, 69, 60]  \n",
       "630  None  19  None  [39, 70, 69, 60]  "
      ]
     },
     "execution_count": 13,
     "metadata": {},
     "output_type": "execute_result"
    }
   ],
   "source": [
    "input_data[input_data[\"L\"].isna()]"
   ]
  },
  {
   "cell_type": "code",
   "execution_count": 14,
   "metadata": {},
   "outputs": [
    {
     "data": {
      "text/plain": [
       "array([ 6, 15, 26, ..., 61, 82,  2])"
      ]
     },
     "execution_count": 14,
     "metadata": {},
     "output_type": "execute_result"
    }
   ],
   "source": [
    "vectorized_songs = []\n",
    "\n",
    "for i in range(817) : \n",
    "    vectorized_songs += input_data[\"vectorized\"][i]\n",
    "    \n",
    "vectorized_songs = np.array(vectorized_songs)\n",
    "vectorized_songs"
   ]
  },
  {
   "cell_type": "markdown",
   "metadata": {
    "id": "hgsVvVxnymwf"
   },
   "source": [
    "### Create training examples and targets\n",
    "\n",
    "- 실제 텍스트를 훈련 중에 사용할 예제 시퀀스로 나눌 것\n",
    "- 입력 텍스트를 seq_length 단위로 나눔\n",
    "- 예를 들어 텍스트는 Hello 이고 seq_length가 4라면 hell가 input, elloo가 target이 됨 \n",
    "- 이로부터 batch 방법을 사용하여 해당 문자 인덱스 스트림을 원하는 크기의 시퀀스로 변환 가능 \n",
    "- 각각의 벡터,각각의 index는 하나의 단일 time step으로 처리 \n",
    "- 즉, time step 0 은 들어온 시퀀스의 첫 번째 문자에 대한 인덱스를 받고 그 다음 인덱스 1의 문자를 맞출 것 "
   ]
  },
  {
   "cell_type": "code",
   "execution_count": 15,
   "metadata": {
    "id": "LF-N8F7BoDRi"
   },
   "outputs": [],
   "source": [
    "### Batch definition to create training examples ###\n",
    "def get_batch(vectorized_songs, seq_length, batch_size):\n",
    "    # the length of the vectorized songs string\n",
    "    n = vectorized_songs.shape[0] - 1 # 200679 - 1 = 200678 \n",
    "    # randomly choose the starting indices for the examples in the training batch\n",
    "    # 0 ~ 200678-seq_length 숫자 사이에서 batch_size개의 임의의 표본 추출 -> 즉 batch size가 n개면 idx도 n개 나옴\n",
    "    idx = np.random.choice(n-seq_length, batch_size) \n",
    "    print(\"idx: \", idx) \n",
    "    \n",
    "    '''TODO: construct a list of input sequences for the training batch'''\n",
    "    input_batch = [vectorized_songs[i : i+seq_length] for i in idx]\n",
    "    print(\"input batch: \", len(input_batch)) # batch size 는 seq_length 값과 동일, 그래서 step의 수도 0~seq_length-1 까지임! \n",
    "    '''TODO: construct a list of output sequences for the training batch'''\n",
    "    output_batch = [vectorized_songs[i+1 : i+seq_length+1] for i in idx]\n",
    "    print(\"output batch: \", len(output_batch))\n",
    "    \n",
    "    # x_batch, y_batch provide the true inputs and targets for network training\n",
    "    x_batch = np.reshape(input_batch, [batch_size, seq_length])\n",
    "    y_batch = np.reshape(output_batch, [batch_size, seq_length])\n",
    "    return x_batch, y_batch"
   ]
  },
  {
   "cell_type": "code",
   "execution_count": 16,
   "metadata": {
    "id": "0eBu9WZG84i0"
   },
   "outputs": [
    {
     "name": "stdout",
     "output_type": "stream",
     "text": [
      "idx:  [25521]\n",
      "input batch:  1\n",
      "output batch:  1\n",
      "Step   0\n",
      "  input: 60 ('e')\n",
      "  expected output: 59 ('d')\n",
      "Step   1\n",
      "  input: 59 ('d')\n",
      "  expected output: 58 ('c')\n",
      "Step   2\n",
      "  input: 58 ('c')\n",
      "  expected output: 82 ('|')\n",
      "Step   3\n",
      "  input: 82 ('|')\n",
      "  expected output: 27 ('B')\n",
      "Step   4\n",
      "  input: 27 ('B')\n",
      "  expected output: 32 ('G')\n"
     ]
    }
   ],
   "source": [
    "x_batch, y_batch = get_batch(vectorized_songs, seq_length=5, batch_size=1)\n",
    "\n",
    "for i, (input_idx, target_idx) in enumerate(zip(np.squeeze(x_batch), np.squeeze(y_batch))):\n",
    "    print(\"Step {:3d}\".format(i))\n",
    "    print(\"  input: {} ({:s})\".format(input_idx, repr(idx2char[input_idx])))\n",
    "    print(\"  expected output: {} ({:s})\".format(target_idx, repr(idx2char[target_idx])))"
   ]
  },
  {
   "cell_type": "markdown",
   "metadata": {
    "id": "r6oUuElIMgVx"
   },
   "source": [
    "## 2.4 The Recurrent Neural Network (RNN) model"
   ]
  },
  {
   "cell_type": "markdown",
   "metadata": {
    "id": "m8gPwEjRzf-Z"
   },
   "source": [
    " 모델은 LSTM 구조를 기반하는데, 이 구조는 연속되는 문자들 사이의 시간 관계(temporal relationships)에 대한 정보를 유지하는 state 벡터를 사용합니다. LSTM의 최종 출력은 fully-connected `Dense` layer로 넘겨지는데, 여기서 vocabulary의 각 문자에 대해 softmax를 계산하고(출력하고) 이로부터 만들어진 불포에서 샘플을 추춘하여 다음 문자를 예측합니다. \n",
    "\n",
    "* keras API [`tf.keras.Sequential`](https://www.tensorflow.org/api_docs/python/tf/keras/models/Sequential)를 사용합니다. 모델을 정의하기 위해 세 개의 레이어가 사용됩니다. \n",
    "* [`tf.keras.layers.Embedding`](https://www.tensorflow.org/api_docs/python/tf/keras/layers/Embedding) : 입력 레이어, 각 문자의 숫자들을 `embedding_dim`차원의 벡터로 매핑하는 훈련 가능한 lookup 테이블로 구성됨 \n",
    "* [`tf.keras.layers.LSTM`](https://www.tensorflow.org/api_docs/python/tf/keras/layers/LSTM): `units=rnn_units` 크기의 LSTM 신경망\n",
    "* [`tf.keras.layers.Dense`](https://www.tensorflow.org/api_docs/python/tf/keras/layers/Dense): `vocab_size` 출력이 있는 출력 레이어\n",
    "* `Model.summary` : 모델의 내부 작동에 대한 summary를 출력, 모델 내부의 레이어, 각 레이어의 출력 형태(shape), 배치 사이즈 등을 확인해 볼 수 있습니다.\n",
    "\n",
    "<img src=\"https://raw.githubusercontent.com/aamini/introtodeeplearning/2019/lab1/img/lstm_unrolled-01-01.png\" alt=\"Drawing\"/>"
   ]
  },
  {
   "cell_type": "code",
   "execution_count": 17,
   "metadata": {
    "id": "8DsWzojvkbc7"
   },
   "outputs": [],
   "source": [
    "# define model function \n",
    "def LSTM(rnn_units): \n",
    "    return tf.keras.layers.LSTM(\n",
    "        rnn_units, \n",
    "        return_sequences=True, \n",
    "        recurrent_initializer='glorot_uniform',\n",
    "        recurrent_activation='sigmoid',\n",
    "        stateful=True,\n",
    "  )"
   ]
  },
  {
   "cell_type": "code",
   "execution_count": 18,
   "metadata": {
    "id": "MtCrdfzEI2N0"
   },
   "outputs": [],
   "source": [
    "### Defining the RNN Model ###\n",
    "'''TODO: Add LSTM and Dense layers to define the RNN model using the Sequential API.'''\n",
    "def build_model(vocab_size, embedding_dim, rnn_units, batch_size):\n",
    "    model = tf.keras.Sequential([\n",
    "        # Layer 1: Embedding layer to transform indices into dense vectors of a fixed embedding size\n",
    "        tf.keras.layers.Embedding(vocab_size, embedding_dim, batch_input_shape=[batch_size, None]),\n",
    "\n",
    "        # Layer 2: LSTM with `rnn_units` number of units. \n",
    "        # TODO: Call the LSTM function defined above to add this layer.\n",
    "        LSTM(rnn_units),\n",
    "\n",
    "        # Layer 3: Dense (fully-connected) layer that transforms the LSTM output into the vocabulary size. \n",
    "        # TODO: Add the Dense layer.\n",
    "        tf.keras.layers.Dense(vocab_size)\n",
    "  ])\n",
    "    return model\n",
    "\n",
    "# Build a simple model with default hyperparameters. You will get the chance to change these later.\n",
    "model = build_model(len(vocab), embedding_dim=256, rnn_units=1024, batch_size=32)"
   ]
  },
  {
   "cell_type": "code",
   "execution_count": 19,
   "metadata": {
    "id": "RwG1DD6rDrRM"
   },
   "outputs": [
    {
     "name": "stdout",
     "output_type": "stream",
     "text": [
      "Model: \"sequential\"\n",
      "_________________________________________________________________\n",
      "Layer (type)                 Output Shape              Param #   \n",
      "=================================================================\n",
      "embedding (Embedding)        (32, None, 256)           21248     \n",
      "_________________________________________________________________\n",
      "lstm (LSTM)                  (32, None, 1024)          5246976   \n",
      "_________________________________________________________________\n",
      "dense (Dense)                (32, None, 83)            85075     \n",
      "=================================================================\n",
      "Total params: 5,353,299\n",
      "Trainable params: 5,353,299\n",
      "Non-trainable params: 0\n",
      "_________________________________________________________________\n"
     ]
    }
   ],
   "source": [
    "model.summary()"
   ]
  },
  {
   "cell_type": "markdown",
   "metadata": {
    "id": "-ubPo0_9Prjb"
   },
   "source": [
    "### Test out the RNN model\n",
    "\n",
    "모델의 예상 작동을 확인하기 위한 간단한 테스트 시행합니다. 길이 100의 시퀀스를 사용하여 출력물의 차원도 확인해보자. \n",
    "**모델에는 어떤 길이의 입력도 동작할 수 있음을 주의!**"
   ]
  },
  {
   "cell_type": "code",
   "execution_count": 20,
   "metadata": {
    "id": "C-_70kKAPrPU"
   },
   "outputs": [
    {
     "name": "stdout",
     "output_type": "stream",
     "text": [
      "idx:  [15951  7852  5800 11465 27561 26433 14596 29636 11712 27748  1249 21920\n",
      " 17576  2812 32005 31395  4848 21074 22037 14644 11477 16561 24773 17593\n",
      "  7473 32189 15915 18204 21350  2428 13348 10398]\n",
      "input batch:  32\n",
      "output batch:  32\n",
      "Input shape:       (32, 100)  # (batch_size, sequence_length)\n",
      "Prediction shape:  (32, 100, 83) # (batch_size, sequence_length, vocab_size)\n"
     ]
    }
   ],
   "source": [
    "x, y = get_batch(vectorized_songs, seq_length=100, batch_size=32)\n",
    "pred = model(x)\n",
    "print(\"Input shape:      \", x.shape, \" # (batch_size, sequence_length)\")\n",
    "print(\"Prediction shape: \", pred.shape, \"# (batch_size, sequence_length, vocab_size)\")"
   ]
  },
  {
   "cell_type": "markdown",
   "metadata": {
    "id": "mT1HvFVUGpoE"
   },
   "source": [
    "### Predictions from the untrained model\n",
    "\n",
    "훈련시키지 않은 모델의 예측은 어떨까? \n",
    "\n",
    "모델의 실제 예측을 얻기 위해서, 우리는 문자 vocabulary를 `softmax`로 정의한 출력 분포에서 샘플을 추출해야 합니다. 이는 우리에게 실제 문자 인덱스틀 제공합니다. 즉, 범주형 분포([categorical distribution](https://en.wikipedia.org/wiki/Categorical_distribution) )을 사용하여 예제 예측을 샘플로 추출함을 의미합니다. 이로써 각 time step에서 다음 문자(특히나 그 인덱스에서의)에 대한 예측을 하게 됩니다. \n",
    "\n",
    "여기서는 단순히 `argmax`를 취하는 대신 확률 분포에서 표본을 추출합니다. (그리고 argmax는 모델이 루프에 빠지게 만들 수 있습니다?)\n",
    "\n",
    "첫 번째 예시 batch에서 샘플링을 실행해봅시다. "
   ]
  },
  {
   "cell_type": "code",
   "execution_count": 21,
   "metadata": {
    "id": "4V4MfFg0RQJg"
   },
   "outputs": [
    {
     "data": {
      "text/plain": [
       "array([34, 35, 71, 47, 25, 27, 56, 10,  1, 17, 45,  9, 18, 18, 69, 81, 48,\n",
       "       53, 62, 30, 70, 52, 26,  7, 40, 40, 26, 17, 13, 52, 24, 27, 54, 82,\n",
       "       56, 67, 76, 26, 60, 60, 17, 34,  6, 80, 48, 70, 70, 27,  7, 35, 29,\n",
       "        3, 66, 43, 79, 62, 73, 60, 26, 39,  8,  0, 33, 45, 47, 76, 71, 38,\n",
       "       76, 29,  6, 29, 79, 41, 52, 43, 11, 16,  3, 18, 59, 77, 40, 61, 24,\n",
       "       61, 47, 80, 37, 21, 24, 17, 77, 76, 82, 40, 20, 25, 61, 79],\n",
       "      dtype=int64)"
      ]
     },
     "execution_count": 21,
     "metadata": {},
     "output_type": "execute_result"
    }
   ],
   "source": [
    "sampled_indices = tf.random.categorical(pred[0], num_samples=1)\n",
    "sampled_indices = tf.squeeze(sampled_indices,axis=-1).numpy()\n",
    "sampled_indices"
   ]
  },
  {
   "cell_type": "markdown",
   "metadata": {},
   "source": [
    "이제 이들을 디코딩하여 훈련되지 않은 모델이 예측한 텍스트를 확인할 수 있습니다. "
   ]
  },
  {
   "cell_type": "code",
   "execution_count": 22,
   "metadata": {
    "id": "xWcFwPwLSo05"
   },
   "outputs": [
    {
     "name": "stdout",
     "output_type": "stream",
     "text": [
      "Input: \n",
      " 'BG AFEA:|[2 cABc ABcd|]!d|cFF2 cFdF|cFFG AGG2|cFAc dAcA|GcAG FDDd|!G3B dBB2|dBeB dBAB|GBB2 dBB2|dBAB'\n",
      "\n",
      "Next Char Predictions: \n",
      " 'IJpV>Ba. 5T-66nzW]gEo[A)OOA51[=B^|aluAee5I(yWooB)JD\"kRxgreAN,\\nHTVupMuD(DxP[R/4\"6dvOf=fVyL9=5vu|O8>fx'\n"
     ]
    }
   ],
   "source": [
    "print(\"Input: \\n\", repr(\"\".join(idx2char[x[0]])))\n",
    "print()\n",
    "print(\"Next Char Predictions: \\n\", repr(\"\".join(idx2char[sampled_indices])))"
   ]
  },
  {
   "cell_type": "markdown",
   "metadata": {
    "id": "LJL0Q0YPY6Ee"
   },
   "source": [
    "## 2.5 Training the model: loss and training operations\n",
    "\n",
    "다음 문자를 예측하는 문제를 일반적으로 분류 문제(classification, 여기서는 이진 분류가 아닌 multi-class)로 생각해 볼 수 있습니다. \n",
    "RNN의 이전 state와 주어진 time step에서의 입력을 고려하여 다음 문자에 대한 class를 예측해야 합니다.\n",
    "\n",
    "### loss \n",
    "해당 분류 작업에 대해 모델을 훈련시키기 위해 `crossentropy` loss 형태를 사용할 수 있습니다. 특히나, `sparse_categorical_crossentropy`](https://www.tensorflow.org/api_docs/python/tf/keras/backend/sparse_categorical_crossentropy) loss를 사용할 것인데, 해당 loss는 범주형 분류 작업을 위해 정수 타겟을 사용하기 때문입니다. 실제 타겟(`labels`)과 예측 타겟(`logits`)을 사용하여 loss를 계산하는 방식입니다.  \n",
    "\n",
    "### hyper parameter tuning \n",
    "시작값 제공, 최적의 파라미터는 여러분들이 찾아보세요~\n",
    "\n",
    "### optimizer and training operation \n",
    "optimizer와 epochs은 신경망 출력에 영향을 줄 수 있음 \n",
    "- 아래는 시도해볼만 한 optimizer\n",
    "- [`Adam`](https://www.tensorflow.org/api_docs/python/tf/keras/optimizers/Adam?version=stable)\n",
    "- [`Adagrad`](https://www.tensorflow.org/api_docs/python/tf/keras/optimizers/Adagrad?version=stable) \n",
    "\n",
    "Backpropagation은 [`tf.GradientTape`](https://www.tensorflow.org/api_docs/python/tf/GradientTape)를 사용 \n",
    "\n",
    "훈련 동안 모델의 진행 상황을 출력하여 loss를 최소화하고 있는지에 대한 여부를 시각화함\n",
    "\n",
    "### Benchmarking \n",
    "1. No-trained model -> scalar loss : 4.418331 "
   ]
  },
  {
   "cell_type": "code",
   "execution_count": 23,
   "metadata": {
    "id": "4HrXTACTdzY-"
   },
   "outputs": [
    {
     "name": "stdout",
     "output_type": "stream",
     "text": [
      "Prediction shape:  (32, 100, 83)  # (batch_size, sequence_length, vocab_size)\n",
      "scalar_loss:       4.4194446\n"
     ]
    }
   ],
   "source": [
    "### Defining the loss function ###\n",
    "'''TODO: define the loss function to compute and return the loss between\n",
    "    the true labels and predictions (logits). Set the argument from_logits=True.'''\n",
    "def compute_loss(labels, logits):\n",
    "    loss = tf.keras.losses.sparse_categorical_crossentropy(labels, logits, from_logits=True) # TODO\n",
    "    return loss\n",
    "\n",
    "'''TODO: compute the loss using the true next characters from the example batch \n",
    "and the predictions from the untrained model several cells above'''\n",
    "example_batch_loss = compute_loss(y, pred)\n",
    "\n",
    "print(\"Prediction shape: \", pred.shape, \" # (batch_size, sequence_length, vocab_size)\") \n",
    "print(\"scalar_loss:      \", example_batch_loss.numpy().mean())"
   ]
  },
  {
   "cell_type": "code",
   "execution_count": 24,
   "metadata": {
    "id": "JQWUUhKotkAY"
   },
   "outputs": [],
   "source": [
    "### Hyperparameter setting and optimization ###\n",
    "\n",
    "# Optimization parameters:\n",
    "num_training_iterations = 2000  # Increase this to train longer\n",
    "batch_size = 4  # Experiment between 1 and 64\n",
    "seq_length = 100  # Experiment between 50 and 500\n",
    "learning_rate = 5e-3  # Experiment between 1e-5 and 1e-1\n",
    "\n",
    "# Model parameters: \n",
    "vocab_size = len(vocab)\n",
    "embedding_dim = 256 \n",
    "rnn_units = 1024  # Experiment between 1 and 2048\n",
    "\n",
    "# Checkpoint location: \n",
    "checkpoint_dir = './training_checkpoints'\n",
    "checkpoint_prefix = os.path.join(checkpoint_dir, \"my_ckpt\")"
   ]
  },
  {
   "cell_type": "code",
   "execution_count": 25,
   "metadata": {
    "id": "F31vzJ_u66cb"
   },
   "outputs": [
    {
     "data": {
      "image/png": "[encoded data removed]",
      "text/plain": [
       "<Figure size 432x288 with 1 Axes>"
      ]
     },
     "metadata": {},
     "output_type": "display_data"
    },
    {
     "name": "stderr",
     "output_type": "stream",
     "text": [
      "100%|████████████████████████████████████████████████████████████████████████████| 2000/2000 [1:08:44<00:00,  2.06s/it]\n"
     ]
    },
    {
     "data": {
      "image/png": "[encoded data removed]",
      "text/plain": [
       "<Figure size 432x288 with 1 Axes>"
      ]
     },
     "metadata": {
      "needs_background": "light"
     },
     "output_type": "display_data"
    }
   ],
   "source": [
    "### Define optimizer and training operation ###\n",
    "\n",
    "'''TODO: instantiate a new model for training using the `build_model`\n",
    "  function and the hyperparameters created above.'''\n",
    "model = build_model(vocab_size, embedding_dim, rnn_units, batch_size)\n",
    "\n",
    "'''TODO: instantiate an optimizer with its learning rate.\n",
    "  Checkout the tensorflow website for a list of supported optimizers.\n",
    "  https://www.tensorflow.org/api_docs/python/tf/keras/optimizers/\n",
    "  Try using the Adam optimizer to start.'''\n",
    "optimizer = tf.keras.optimizers.Adam(learning_rate)\n",
    "\n",
    "@tf.function\n",
    "def train_step(x, y): \n",
    "    # Use tf.GradientTape()\n",
    "    with tf.GradientTape() as tape:\n",
    "        '''TODO: feed the current input into the model and generate predictions'''\n",
    "        y_hat = model(x)\n",
    "  \n",
    "        '''TODO: compute the loss!'''\n",
    "        loss = compute_loss(y, y_hat)\n",
    "\n",
    "    # Now, compute the gradients \n",
    "    '''TODO: complete the function call for gradient computation. \n",
    "      Remember that we want the gradient of the loss with respect all \n",
    "      of the model parameters. \n",
    "      HINT: use `model.trainable_variables` to get a list of all model\n",
    "      parameters.'''\n",
    "    grads = tape.gradient(loss, model.trainable_variables)\n",
    "  \n",
    "    # Apply the gradients to the optimizer so it can update the model accordingly\n",
    "    optimizer.apply_gradients(zip(grads, model.trainable_variables))\n",
    "    return loss\n",
    "\n",
    "##################\n",
    "# Begin training!#\n",
    "##################\n",
    "\n",
    "history = []\n",
    "plotter = mdl.util.PeriodicPlotter(sec=2, xlabel='Iterations', ylabel='Loss')\n",
    "if hasattr(tqdm, '_instances'): tqdm._instances.clear() # clear if it exists\n",
    "\n",
    "for iter in tqdm(range(num_training_iterations)):\n",
    "    # Grab a batch and propagate it through the network\n",
    "    x_batch, y_batch = get_batch(vectorized_songs, seq_length, batch_size)\n",
    "    loss = train_step(x_batch, y_batch)\n",
    "\n",
    "    # Update the progress bar\n",
    "    history.append(loss.numpy().mean())\n",
    "    plotter.plot(history)\n",
    "\n",
    "    # Update the model with the changed weights!\n",
    "    if iter % 100 == 0:     \n",
    "        model.save_weights(checkpoint_prefix)\n",
    "    \n",
    "    # Save the trained model and the weights\n",
    "    model.save_weights(checkpoint_prefix)\n"
   ]
  },
  {
   "cell_type": "markdown",
   "metadata": {
    "id": "kKkD5M6eoSiN"
   },
   "source": [
    "## 2.6 Generate music using the RNN model : Inference\n",
    "\n",
    "음악을 만들어낼 때, 모델의 시작을 위해 몇 가지 시드를 공급해야 합니다. \n",
    "\n",
    "일단 생성된 시드를 가지고 나면, 훈련된 RNN을 사용하여 각각의 연속적인 문자를 반복적으로 예측할 수 있습니다. 보다 구체적으로, RNN은 가능한 연속적인 문자로 `softmax`를 출력한다는 것을 기억하자. 추론(Inference)을 하는 동안, 이런 분포로부터 반복적으로 표본을 추출한 다음 생성된 노래를 ABC 표기법으로 인코딩하는 데 샘플을 사용합니다. \n"
   ]
  },
  {
   "cell_type": "markdown",
   "metadata": {
    "id": "JIPcXllKjkdr"
   },
   "source": [
    "### Restore the latest checkpoint\n",
    "\n",
    "- 추론(Inference) 단계를 간단하게 하기 위해서 공정 batch 크기는 1로 사용\n",
    "    - RNN의 state가 timestep에서 timestep으로 전달되는 방식 때문에, 모델은 오로지 한번 설정된 고정 batch 크기만을 수용할 수 있습니다. \n",
    "    - 다른 batch_size 모델을 실행하려면 rebuilding 해야 하고 훈련 중 마지막 checkpoint 이후의 가중치를 복원해야 함  "
   ]
  },
  {
   "cell_type": "code",
   "execution_count": 26,
   "metadata": {
    "id": "LycQ-ot_jjyu"
   },
   "outputs": [
    {
     "name": "stdout",
     "output_type": "stream",
     "text": [
      "Model: \"sequential_2\"\n",
      "_________________________________________________________________\n",
      "Layer (type)                 Output Shape              Param #   \n",
      "=================================================================\n",
      "embedding_2 (Embedding)      (1, None, 256)            21248     \n",
      "_________________________________________________________________\n",
      "lstm_2 (LSTM)                (1, None, 1024)           5246976   \n",
      "_________________________________________________________________\n",
      "dense_2 (Dense)              (1, None, 83)             85075     \n",
      "=================================================================\n",
      "Total params: 5,353,299\n",
      "Trainable params: 5,353,299\n",
      "Non-trainable params: 0\n",
      "_________________________________________________________________\n"
     ]
    }
   ],
   "source": [
    "'''TODO: Rebuild the model using a batch_size=1'''\n",
    "model = build_model(vocab_size, embedding_dim, rnn_units, batch_size=1)\n",
    "\n",
    "# Restore the model weights for the last checkpoint after training\n",
    "model.load_weights(tf.train.latest_checkpoint(checkpoint_dir))\n",
    "model.build(tf.TensorShape([1, None]))\n",
    "\n",
    "model.summary()"
   ]
  },
  {
   "cell_type": "markdown",
   "metadata": {},
   "source": [
    "### The prediction procedure\n",
    "\n",
    "- \"시드\" 시작 문자열과 RNN state를 초기화 하고, 생성할 문자 수를 설정합니다.\n",
    "- 시작 문자열과 RNN state를 사용하여 다음 예측 문자에 대한 확률 분포를 얻습니다. \n",
    "- 예측 문자의 인덱스를 계산하기 위해 다항 분포 표본으로부터 샘플링합니다. 그런 다음 이 예측 문자를 모델의 다음 입력으로 사용합니다. \n",
    "- 각 time step에서, 업데이트 된 RNN state는 다시 모델에 공급되어, 다음 예측을 만들 때 더 많은 컨텍스트(context)를 갖게 됩니다. 다음 문자를 예측한 후, 업데이트 된 RNN states는 다시 모델에 공급되고, 이는 이전 예측으로부터 더 많은 정보를 얻기 때문에 데이터 속에서 시퀀스 종속성을 학습하게 하는 방법이 됩니다. \n",
    "\n",
    "![LSTM inference](https://raw.githubusercontent.com/aamini/introtodeeplearning/2019/lab1/img/lstm_inference.png)\n"
   ]
  },
  {
   "cell_type": "code",
   "execution_count": 27,
   "metadata": {
    "id": "WvuwZBX5Ogfd"
   },
   "outputs": [],
   "source": [
    "### Prediction of a generated song ###\n",
    "\n",
    "def generate_text(model, start_string, generation_length=1000):\n",
    "    # Evaluation step (generating ABC text using the learned RNN model)\n",
    "\n",
    "    '''TODO: convert the start string to numbers (vectorize)'''\n",
    "    #input_eval = [vectorize_string(start_string)]\n",
    "    input_eval = [char2idx[s] for s in start_string]\n",
    "    input_eval = tf.expand_dims(input_eval, 0)\n",
    "\n",
    "    # Empty string to store our results\n",
    "    text_generated = []\n",
    "\n",
    "    # Here batch size == 1\n",
    "    model.reset_states()\n",
    "    tqdm._instances.clear()\n",
    "\n",
    "    for i in tqdm(range(generation_length)):\n",
    "        '''TODO: evaluate the inputs and generate the next character predictions'''\n",
    "        predictions = model(input_eval)\n",
    "      \n",
    "        # Remove the batch dimension\n",
    "        predictions = tf.squeeze(predictions, 0)\n",
    "      \n",
    "        '''TODO: use a multinomial distribution to sample'''\n",
    "        predicted_id = tf.random.categorical(predictions, num_samples=1)[-1,0].numpy()\n",
    "      \n",
    "        # Pass the prediction along with the previous hidden state\n",
    "        #   as the next inputs to the model\n",
    "        input_eval = tf.expand_dims([predicted_id], 0)\n",
    "      \n",
    "        '''TODO: add the predicted character to the generated text!'''\n",
    "        # Hint: consider what format the prediction is in vs. the output\n",
    "        text_generated.append(idx2char[predicted_id])\n",
    "    \n",
    "    return (start_string + ''.join(text_generated))"
   ]
  },
  {
   "cell_type": "code",
   "execution_count": 28,
   "metadata": {
    "id": "ktovv0RFhrkn"
   },
   "outputs": [
    {
     "name": "stderr",
     "output_type": "stream",
     "text": [
      "100%|█████████████████████████████████████████████████████████████████████████████| 1000/1000 [00:06<00:00, 151.26it/s]\n"
     ]
    }
   ],
   "source": [
    "'''TODO: Use the model and the function defined above to generate ABC format text of length 1000!\n",
    "    As you may notice, ABC files start with \"X\" - this may be a good start string.'''\n",
    "generated_text = generate_text(model, start_string=\"X\", generation_length=1000) # TODO\n",
    "# generated_text = generate_text('''TODO''', start_string=\"X\", generation_length=1000)"
   ]
  },
  {
   "cell_type": "markdown",
   "metadata": {
    "id": "AM2Uma_-yVIq"
   },
   "source": [
    "### Play back the generated music!\n",
    "\n",
    "ABC notation text audio -> audio file 로 변환 후 생성된 노래 확인  "
   ]
  },
  {
   "cell_type": "code",
   "execution_count": 29,
   "metadata": {
    "id": "LrOtG64bfLto"
   },
   "outputs": [
    {
     "name": "stdout",
     "output_type": "stream",
     "text": [
      "Found 0 songs in text\n"
     ]
    }
   ],
   "source": [
    "### Play back generated songs ###\n",
    "\n",
    "generated_songs = mdl.lab1.extract_song_snippet(generated_text)\n",
    "\n",
    "for i, song in enumerate(generated_songs): \n",
    "    # Synthesize the waveform from a song\n",
    "    waveform = mdl.lab1.play_song(song)\n",
    "\n",
    "    # If its a valid song (correct syntax), lets play it! \n",
    "    if waveform:\n",
    "        print(\"Generated song\", i)\n",
    "        ipythondisplay.display(waveform)"
   ]
  },
  {
   "cell_type": "code",
   "execution_count": null,
   "metadata": {},
   "outputs": [],
   "source": []
  }
 ],
 "metadata": {
  "accelerator": "GPU",
  "colab": {
   "collapsed_sections": [
    "uoJsVjtCMunI"
   ],
   "name": "Part2_Music_Generation.ipynb",
   "provenance": []
  },
  "kernelspec": {
   "display_name": "Python 3",
   "language": "python",
   "name": "python3"
  },
  "language_info": {
   "codemirror_mode": {
    "name": "ipython",
    "version": 3
   },
   "file_extension": ".py",
   "mimetype": "text/x-python",
   "name": "python",
   "nbconvert_exporter": "python",
   "pygments_lexer": "ipython3",
   "version": "3.8.12"
  }
 },
 "nbformat": 4,
 "nbformat_minor": 1
}
